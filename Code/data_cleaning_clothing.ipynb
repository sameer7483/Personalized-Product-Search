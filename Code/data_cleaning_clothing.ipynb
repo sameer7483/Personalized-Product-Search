{
  "cells": [
    {
      "cell_type": "code",
      "execution_count": null,
      "metadata": {
        "autoscroll": "auto"
      },
      "outputs": [],
      "source": [
        "// Need to set this true so that we can load the data without any pre defined schema\n",
        "spark.conf.set(\"spark.sql.caseSensitive\", \"true\")"
      ]
    },
    {
      "cell_type": "markdown",
      "metadata": {},
      "source": [
        "Data Ingestion"
      ]
    },
    {
      "cell_type": "code",
      "execution_count": 1,
      "metadata": {
        "autoscroll": "auto"
      },
      "outputs": [],
      "source": [
        "// Loading the complete amazon review data set for Clothes Shoes and Jewelry\n",
        "val clothesDF = spark.read.json(\"project/Clothing_Shoes_and_Jewelry.json\")"
      ]
    },
    {
      "cell_type": "code",
      "execution_count": 2,
      "metadata": {
        "autoscroll": "auto"
      },
      "outputs": [],
      "source": [
        "// Loading the meta data for the above reviews data set\n",
        "val metaDF = spark.read.json(\"project/meta_Clothing_Shoes_and_Jewelry.json\")"
      ]
    },
    {
      "cell_type": "code",
      "execution_count": 3,
      "metadata": {
        "autoscroll": "auto"
      },
      "outputs": [],
      "source": [
        "clothesDF.printSchema()"
      ]
    },
    {
      "cell_type": "code",
      "execution_count": 4,
      "metadata": {
        "autoscroll": "auto"
      },
      "outputs": [],
      "source": [
        "metaDF.printSchema()"
      ]
    },
    {
      "cell_type": "code",
      "execution_count": 5,
      "metadata": {
        "autoscroll": "auto"
      },
      "outputs": [],
      "source": [
        "clothesDF.createOrReplaceTempView(\"amazon_data\")"
      ]
    },
    {
      "cell_type": "markdown",
      "metadata": {},
      "source": [
        "Viewing snippet of Data"
      ]
    },
    {
      "cell_type": "code",
      "execution_count": 6,
      "metadata": {
        "autoscroll": "auto"
      },
      "outputs": [],
      "source": [
        "// Showing a gist of Amazon reviews data\n",
        "val ex = spark.sql(\"SELECT * FROM amazon_data\")\n",
        "ex.show()"
      ]
    },
    {
      "cell_type": "code",
      "execution_count": 7,
      "metadata": {
        "autoscroll": "auto"
      },
      "outputs": [],
      "source": [
        "metaDF.createOrReplaceTempView(\"amazon_metadata\")\n"
      ]
    },
    {
      "cell_type": "markdown",
      "metadata": {},
      "source": [
        "Viewing snippet of meta Data"
      ]
    },
    {
      "cell_type": "code",
      "execution_count": 8,
      "metadata": {
        "autoscroll": "auto"
      },
      "outputs": [],
      "source": [
        "// Showing a gist of Amazon reviews meta data\n",
        "val ex1 = spark.sql(\"SELECT * FROM amazon_metadata\")\n",
        "ex1.show()"
      ]
    },
    {
      "cell_type": "code",
      "execution_count": 9,
      "metadata": {
        "autoscroll": "auto"
      },
      "outputs": [],
      "source": [
        "// Checking the data for \"fit\" column\n",
        "val ex2 = spark.sql(\"SELECT distinct(rank) FROM amazon_metadata where rank is not NULL\")\n",
        "ex2.take(10)"
      ]
    },
    {
      "cell_type": "code",
      "execution_count": 10,
      "metadata": {
        "autoscroll": "auto"
      },
      "outputs": [],
      "source": [
        "// Data Profiling\n",
        "// Total count of data rows \n",
        "val rows_total = clothesDF.count()\n",
        "rows_total"
      ]
    },
    {
      "cell_type": "code",
      "execution_count": 11,
      "metadata": {
        "autoscroll": "auto"
      },
      "outputs": [],
      "source": [
        "// Data Profiling\n",
        "// Total count of meta data rows \n",
        "val total_rows_metadata = metaDF.count()\n",
        "total_rows_metadata"
      ]
    },
    {
      "cell_type": "code",
      "execution_count": 12,
      "metadata": {
        "autoscroll": "auto"
      },
      "outputs": [],
      "source": [
        "// List of columns originally present in the data\n",
        "clothesDF.columns"
      ]
    },
    {
      "cell_type": "code",
      "execution_count": 13,
      "metadata": {
        "autoscroll": "auto"
      },
      "outputs": [],
      "source": [
        "// List of columns originally present in the meta data\n",
        "metaDF.columns"
      ]
    },
    {
      "cell_type": "markdown",
      "metadata": {},
      "source": [
        "Some part of Data profiling"
      ]
    },
    {
      "cell_type": "code",
      "execution_count": 14,
      "metadata": {
        "autoscroll": "auto"
      },
      "outputs": [],
      "source": [
        "// Data Profiling\n",
        "// Number of nulls in each column of data\n",
        "clothesDF.select(clothesDF.columns.map(colName => {\n",
        "    count(when(col(colName).isNull, true)) as s\"${colName}\"\n",
        "  }): _*)\n",
        "  .show(12)"
      ]
    },
    {
      "cell_type": "code",
      "execution_count": 15,
      "metadata": {
        "autoscroll": "auto"
      },
      "outputs": [],
      "source": [
        "// Number of nulls in each column of meta-data\n",
        "metaDF.select(metaDF.columns.map(colName => {\n",
        "    count(when(col(colName).isNull, true)) as s\"${colName}\"\n",
        "  }): _*)\n",
        "  .show(19)"
      ]
    },
    {
      "cell_type": "code",
      "execution_count": 16,
      "metadata": {
        "autoscroll": "auto"
      },
      "outputs": [],
      "source": [
        "// Calculate total unique products in the data\n",
        "val totalProducts = clothesDF.select(countDistinct(\"asin\"))\n",
        "totalProducts.show()"
      ]
    },
    {
      "cell_type": "code",
      "execution_count": 17,
      "metadata": {
        "autoscroll": "auto"
      },
      "outputs": [],
      "source": [
        "// Calculate total unique products in the meta data\n",
        "val totalProductsMeta = metaDF.select(countDistinct(\"asin\"))\n",
        "totalProductsMeta.show()"
      ]
    },
    {
      "cell_type": "code",
      "execution_count": 18,
      "metadata": {
        "autoscroll": "auto"
      },
      "outputs": [],
      "source": [
        "// Count of reviews by verified users\n",
        "clothesDF.filter(clothesDF(\"verified\") === true).count()"
      ]
    },
    {
      "cell_type": "code",
      "execution_count": 19,
      "metadata": {
        "autoscroll": "auto"
      },
      "outputs": [],
      "source": [
        "// Count of reviews by non verified users\n",
        "clothesDF.filter(clothesDF(\"verified\") === false).count()"
      ]
    },
    {
      "cell_type": "code",
      "execution_count": 20,
      "metadata": {
        "autoscroll": "auto"
      },
      "outputs": [],
      "source": [
        "/**\n",
        " * Here we analyze each of the columns and decide whether we want to keep them or not using the data that we got in above paragraphs\n",
        " * \n",
        " * asin : KEEP -> as this the unique product ID and we require it as a primary key in our database\n",
        " * image : REMOVE -> huge amount of nulls \n",
        " * overall : KEEP -> tells us rating of each product given by a user, will help us in final search results\n",
        " * reviewText : REMOVE -> We are removing it as there is huge text which will hamper our results. We will use summary instead of this.\n",
        " * reviewTime : REMOVE -> we don't need it for our search results\n",
        " * reviewerID : REMOVE -> we don't need it for our search results\n",
        " * reviewerName : REMOVE -> we don't need it for our search results\n",
        " * style : REMOVE -> It has huge amount of null data\n",
        " * summary : KEEP -> This will help us in analyzing the reviews by past users and give search results to users\n",
        " * unixReviewTime : REMOVE -> we don't need it for our search results\n",
        " * verified : KEEP -> We see that there are more than 90% verified users, so we will remove the non-verified users.\n",
        " * vote : KEEP -> Even though there are lot of nulls, but this will help us in telling the intensity of the review.\n",
        " * \n",
        " * Finally we will keep asin, overall, summary, verified and vote columns\n",
        " * \n",
        "**/"
      ]
    },
    {
      "cell_type": "code",
      "execution_count": 21,
      "metadata": {
        "autoscroll": "auto"
      },
      "outputs": [],
      "source": [
        "/**\n",
        " * Here we analyze each of the columns and decide whether we want to keep them or not using the data that we got in above paragraphs\n",
        " * \n",
        " * also_buy : KEEP -> Will be a complementary suggestion to user\n",
        " * also_view : KEEP -> Will be a suggestion to user\n",
        " * asin : KEEP -> as this the unique product ID and we require it as a primary key in our database\n",
        " * brand : KEEP -> will be useful information to be given to the user\n",
        " * category : KEEP -> Will be an useful information.\n",
        " * date : REMOVE -> The given data is not related to date.\n",
        " * description : KEEP -> This will be useful in our search engine and also for the user to see.\n",
        " * details : REMOVE -> The data does not makes sense. It is showing as object but schema has type string.\n",
        " * feature : KEEP -> This will be useful information in search results and for the user display as well.\n",
        " * fit : REMOVE -> Data does not makes sense and there are lot of Nulls as well.\n",
        " * imageURL : REMOVE -> We are keeping the high resolution image URL, so don't need this. It will be redundant column.\n",
        " * imageURLHighRes : KEEP -> We can show the final image to the user in search result\n",
        " * main_cat : -> REMOVE -> This information is not useful for us as everything is related to Clothes, Shoes and Jewelry.\n",
        " * price : KEEP -> Required information to show it to the user.\n",
        " * rank : REMOVE -> The data doesn't make sense and is not relevant for search.\n",
        " * similar_item : REMOVE -> Since the data is object, we won't be able to get meaningful data out of it\n",
        " * tech1 : REMOVE -> Will not provide required information to us or the user\n",
        " * tech2 : REMOVE -> Will not provide required information to us or the user\n",
        " * title : KEEP -> will be useful information to be given to the user\n",
        " * \n",
        " * Finally we will keep also_buy, also_view, asin, brand, category, description, feature, imageURLHighRes, price, similar_item, title\n",
        " * \n",
        "**/"
      ]
    },
    {
      "cell_type": "markdown",
      "metadata": {},
      "source": [
        "Data Cleaning"
      ]
    },
    {
      "cell_type": "code",
      "execution_count": 22,
      "metadata": {
        "autoscroll": "auto"
      },
      "outputs": [],
      "source": [
        "// Dropping columns which are not required\n",
        "val cleaned_data = clothesDF.drop( \"image\", \"reviewText\", \"reviewTime\", \"reviewerID\", \"reviewerName\", \"style\", \"unixReviewTime\")"
      ]
    },
    {
      "cell_type": "code",
      "execution_count": 23,
      "metadata": {
        "autoscroll": "auto"
      },
      "outputs": [],
      "source": [
        "// We are converting \"vote\" column from string to Integer\n",
        "\n",
        "val cleaned_data1 = cleaned_data.withColumn(\"vote\", cleaned_data(\"vote\").cast(\"integer\"))"
      ]
    },
    {
      "cell_type": "code",
      "execution_count": 24,
      "metadata": {
        "autoscroll": "auto"
      },
      "outputs": [],
      "source": [
        "cleaned_data1.show()"
      ]
    },
    {
      "cell_type": "code",
      "execution_count": 25,
      "metadata": {
        "autoscroll": "auto"
      },
      "outputs": [],
      "source": [
        "cleaned_data1.printSchema()"
      ]
    },
    {
      "cell_type": "code",
      "execution_count": 26,
      "metadata": {
        "autoscroll": "auto"
      },
      "outputs": [],
      "source": [
        "cleaned_data1.columns"
      ]
    },
    {
      "cell_type": "code",
      "execution_count": 27,
      "metadata": {
        "autoscroll": "auto"
      },
      "outputs": [],
      "source": [
        "// Dropping columns which are not required in meta data\n",
        "val cleaned_metadata = metaDF.drop(\"date\", \"details\", \"fit\", \"imageURL\", \"main_cat\", \"similar_item\", \"rank\", \"tech1\", \"tech2\")\n"
      ]
    },
    {
      "cell_type": "code",
      "execution_count": 28,
      "metadata": {
        "autoscroll": "auto"
      },
      "outputs": [],
      "source": [
        "cleaned_metadata.count()"
      ]
    },
    {
      "cell_type": "code",
      "execution_count": 29,
      "metadata": {
        "autoscroll": "auto"
      },
      "outputs": [],
      "source": [
        "// Data Profiling\n",
        "// Removing redundant rows in the meta data\n",
        "val unique_metadata = cleaned_metadata.distinct()"
      ]
    },
    {
      "cell_type": "code",
      "execution_count": 30,
      "metadata": {
        "autoscroll": "auto"
      },
      "outputs": [],
      "source": [
        "unique_metadata.count()"
      ]
    },
    {
      "cell_type": "markdown",
      "metadata": {},
      "source": [
        "Data Cleaning continued"
      ]
    },
    {
      "cell_type": "code",
      "execution_count": 31,
      "metadata": {
        "autoscroll": "auto"
      },
      "outputs": [],
      "source": [
        "// Removing \"$\" sign from price column and converting it to string\n",
        "// Some of rows of price have range like \"12.29 - 17.89\". So I am taking the maximum price for easier calculation.\n",
        "\n",
        "import org.apache.spark.sql.functions._\n",
        "\n",
        "val toDouble = udf[Double, String]( _.toDouble)\n",
        "\n",
        "val unique_metadata1 = unique_metadata.withColumn(\n",
        "    \"price\",\n",
        "    expr(\"replace(price, '$', '')\")\n",
        ")\n",
        "\n",
        "val unique_metadata2 = unique_metadata1.withColumn(\"price\", split($\"price\", \"\\\\-\")(1)).select(\n",
        "    \"also_buy\", \"also_view\", \"asin\", \"brand\", \"category\", \"description\", \"feature\", \"imageURLHighRes\", \"title\", \"price\"\n",
        ")\n",
        "\n",
        "val unique_metadata3 = unique_metadata2.withColumn(\n",
        "    \"price\",\n",
        "    expr(\"replace(price, '\\\\s', '')\")\n",
        ")\n",
        "\n",
        "//   $\"_tmp\".getItem(1).as(\"max_price\")\n",
        "\n",
        "val unique_metadata4 = unique_metadata3.withColumn(\"price\", unique_metadata3(\"price\").cast(\"Double\"))\n",
        "\n",
        "// val unique_metadata4 = unique_metadata3.withColumn(\"price\", toDouble(unique_metadata3(\"price\"))).select(\"also_buy\", \"also_view\", \"asin\", \"brand\", \"category\", \"description\", \"feature\", \"imageURLHighRes\", \"price\", \"title\")"
      ]
    },
    {
      "cell_type": "code",
      "execution_count": 32,
      "metadata": {
        "autoscroll": "auto"
      },
      "outputs": [],
      "source": [
        "unique_metadata3.columns"
      ]
    },
    {
      "cell_type": "code",
      "execution_count": 33,
      "metadata": {
        "autoscroll": "auto"
      },
      "outputs": [],
      "source": [
        "unique_metadata1.select(\"price\").show()"
      ]
    },
    {
      "cell_type": "code",
      "execution_count": 34,
      "metadata": {
        "autoscroll": "auto"
      },
      "outputs": [],
      "source": [
        "unique_metadata4.select(\"price\").show()"
      ]
    },
    {
      "cell_type": "code",
      "execution_count": 35,
      "metadata": {
        "autoscroll": "auto"
      },
      "outputs": [],
      "source": [
        "unique_metadata4.printSchema()"
      ]
    },
    {
      "cell_type": "markdown",
      "metadata": {},
      "source": [
        "Joining meta data with full data"
      ]
    },
    {
      "cell_type": "code",
      "execution_count": 36,
      "metadata": {
        "autoscroll": "auto"
      },
      "outputs": [],
      "source": [
        "val joinedDf = cleaned_data1.join(unique_metadata4, Seq(\"asin\"), \"inner\")"
      ]
    },
    {
      "cell_type": "code",
      "execution_count": 37,
      "metadata": {
        "autoscroll": "auto"
      },
      "outputs": [],
      "source": [
        "joinedDf.printSchema()"
      ]
    },
    {
      "cell_type": "code",
      "execution_count": 38,
      "metadata": {
        "autoscroll": "auto"
      },
      "outputs": [],
      "source": [
        "joinedDf.columns"
      ]
    },
    {
      "cell_type": "code",
      "execution_count": 39,
      "metadata": {
        "autoscroll": "auto"
      },
      "outputs": [],
      "source": [
        "joinedDf.select(\"asin\", \"overall\", \"summary\", \"verified\", \"vote\", \"also_buy\", \"also_view\", \"brand\", \"category\", \"description\", \"feature\", \"imageURLHighRes\", \"title\", \"price\")"
      ]
    },
    {
      "cell_type": "code",
      "execution_count": 40,
      "metadata": {
        "autoscroll": "auto"
      },
      "outputs": [],
      "source": [
        "//\"asin\", \"overall\", \"summary\", \"verified\", \"vote\", \"also_buy\", \"also_view\", \"brand\", \"category\", \"description\", \"feature\", \"imageURLHighRes\", \"title\", \"price\"\n",
        "joinedDf.select(\"asin\").show()"
      ]
    },
    {
      "cell_type": "code",
      "execution_count": 41,
      "metadata": {
        "autoscroll": "auto"
      },
      "outputs": [],
      "source": [
        "// Data Profiling"
      ]
    },
    {
      "cell_type": "markdown",
      "metadata": {},
      "source": [
        "Major Data Profiling"
      ]
    },
    {
      "cell_type": "code",
      "execution_count": 42,
      "metadata": {
        "autoscroll": "auto"
      },
      "outputs": [],
      "source": [
        "// Get all unique brand in the metadata\n",
        "\n",
        "joinedDf.select(\"brand\").distinct().show()"
      ]
    },
    {
      "cell_type": "code",
      "execution_count": 43,
      "metadata": {
        "autoscroll": "auto"
      },
      "outputs": [],
      "source": [
        "// Calculate minimum, maximum and average price of all the items in the metadata\n",
        "joinedDf.agg(min(\"price\"), max(\"price\"), avg(\"price\")).show()"
      ]
    },
    {
      "cell_type": "code",
      "execution_count": 44,
      "metadata": {
        "autoscroll": "auto"
      },
      "outputs": [],
      "source": [
        "// Calculate average rating per brand\n",
        "val avg_rating = joinedDf.groupBy(\"brand\").agg(mean(\"vote\"))\n",
        "avg_rating.show()"
      ]
    },
    {
      "cell_type": "code",
      "execution_count": 45,
      "metadata": {
        "autoscroll": "auto"
      },
      "outputs": [],
      "source": [
        "// Calculate average rating per product\n",
        "val avg_rating_product = cleaned_data1.groupBy(\"asin\").agg(mean(\"vote\"))\n",
        "avg_rating_product.show()"
      ]
    },
    {
      "cell_type": "code",
      "execution_count": 46,
      "metadata": {
        "autoscroll": "auto"
      },
      "outputs": [],
      "source": [
        "// Calculate total count of rating per product\n",
        "val count_rating_product = cleaned_data1.groupBy(\"asin\").count()\n",
        "count_rating_product.show()"
      ]
    },
    {
      "cell_type": "code",
      "execution_count": 47,
      "metadata": {
        "autoscroll": "auto"
      },
      "outputs": [],
      "source": [
        "// See the minimum and maximum number of rating that a product got\n",
        "count_rating_product.agg(min(\"count\"), max(\"count\")).show()"
      ]
    }
  ],
  "metadata": {
    "kernelspec": {
      "language": "scala",
      "name": "spark2-scala"
    },
    "language_info": {
      "codemirror_mode": "text/x-scala",
      "file_extension": ".scala",
      "mimetype": "text/x-scala",
      "name": "scala",
      "pygments_lexer": "scala"
    },
    "name": "project"
  },
  "nbformat": 4,
  "nbformat_minor": 2
}
