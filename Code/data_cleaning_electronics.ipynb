﻿{
  "metadata": {
    "name": "project",
    "kernelspec": {
      "language": "scala",
      "name": "spark2-scala"
    },
    "language_info": {
      "codemirror_mode": "text/x-scala",
      "file_extension": ".scala",
      "mimetype": "text/x-scala",
      "name": "scala",
      "pygments_lexer": "scala"
    }
  },
  "nbformat": 4,
  "nbformat_minor": 2,
  "cells": [
    {
      "cell_type": "code",
      "execution_count": 0,
      "metadata": {
        "autoscroll": "auto"
      },
      "outputs": [],
      "source": "spark.conf.set(\"spark.sql.caseSensitive\", \"true\");"
    },
    {
      "cell_type": "code",
      "execution_count": 1,
      "metadata": {
        "autoscroll": "auto"
      },
      "outputs": [],
      "source": "val mainDf \u003d spark.read.json(\"/user/sa6142_nyu_edu/project/electronics/Electronics.json\");"
    },
    {
      "cell_type": "code",
      "execution_count": 2,
      "metadata": {
        "autoscroll": "auto"
      },
      "outputs": [],
      "source": "//Feature Selection\n//Look into each column of mainDf and select the relevant fields\nmainDf.columns\n"
    },
    {
      "cell_type": "code",
      "execution_count": 3,
      "metadata": {
        "autoscroll": "auto"
      },
      "outputs": [],
      "source": "mainDf.printSchema"
    },
    {
      "cell_type": "code",
      "execution_count": 4,
      "metadata": {
        "autoscroll": "auto"
      },
      "outputs": [],
      "source": "//check asin\nprint(f\"No of Reviews: ${mainDf.count()}\\n\")\nprint(f\"No of Distinct Products: ${mainDf.select(\"asin\").distinct().count()}\\n\")"
    },
    {
      "cell_type": "code",
      "execution_count": 5,
      "metadata": {
        "autoscroll": "auto"
      },
      "outputs": [],
      "source": "mainDf.show()"
    },
    {
      "cell_type": "code",
      "execution_count": 6,
      "metadata": {
        "autoscroll": "auto"
      },
      "outputs": [],
      "source": "//udf to count null in a column\nimport org.apache.spark.sql.functions.{col,when, count}\ndef countColumns(columns:Array[String])\u003d{\n    columns.map(c\u003d\u003e{\n      count(when(col(c).isNull,c)).alias(c)\n    })\n}\nmainDf.select(countColumns(mainDf.columns):_*).show()"
    },
    {
      "cell_type": "code",
      "execution_count": 7,
      "metadata": {
        "autoscroll": "auto"
      },
      "outputs": [],
      "source": "//Based on the results of the above two paragraphs we can drop some of the features which are heavily null or which are irrelevant for our search\n\n//asin: This is the productId and we will keep this field as it will be used to join with the meta df\n//image: This is the images that the reviewer post but as we can see in the above paragraphs that it is mostly null. We will be dropping out this column\n//overall: This is the overall rating that the reviewer provides to the product. We will keep this field as it will be useful in determining the ordering in the search query.\n//reviewText: Review text contains lot more text than usually needed to gauge the sentiment of the reviewer. Thus we will be dropping this field and instead use Summary feature for the sentiment anaylsis.\n//reviewTime: This Field is not needed for our search engine.\n//reviewerID: This Field is not needed for our search engine.\n//reviewerName: This Field is not needed for our search engine.\n//style: This field is mostly null and non-null usually contains the categorization of the product, which we can easily get from the meta table so we will be dropping this feature.\n//summary: This contains the summary of user\u0027s review. We will keep this field for sentiment analysis.\n//unixReviewTime: We will drop this field as it is not relevant for our search engine.\n//verified: We filtered out the unverified reviews and not longer need this field thus we are dropping this.\n//vote: We are likely to use this to to assign weights to each review.\n\n//Features selected from mainDf are:\n//asin\n//overall\n//summary\n//vote"
    },
    {
      "cell_type": "code",
      "execution_count": 8,
      "metadata": {
        "autoscroll": "auto"
      },
      "outputs": [],
      "source": "//cast vote to int\n//we will keep only the verified reviews and convert the vote colums to int and replace the null with 0\nval newMainDf \u003d mainDf.where(mainDf(\"verified\")\u003d\u003d\u003dtrue).select($\"asin\", $\"overall\", $\"summary\", $\"vote\".cast(\"int\")).toDF\nval filteredMainDf \u003d newMainDf.na.fill(0)"
    },
    {
      "cell_type": "code",
      "execution_count": 9,
      "metadata": {
        "autoscroll": "auto"
      },
      "outputs": [],
      "source": "//keep only the products that has more than 10 reviews as too few review may make the model biased\nval countDf \u003d filteredMainDf.groupBy($\"asin\").agg(count($\"asin\").as(\"num_review\")).filter($\"num_review\" \u003e 10).toDF\ncountDf.show()"
    },
    {
      "cell_type": "code",
      "execution_count": 10,
      "metadata": {
        "autoscroll": "auto"
      },
      "outputs": [],
      "source": "val finalMainDf \u003d filteredMainDf.join(countDf, Seq(\"asin\"), \"inner\").filter($\"num_review\" \u003e 10).drop($\"num_review\")\n"
    },
    {
      "cell_type": "code",
      "execution_count": 11,
      "metadata": {
        "autoscroll": "auto"
      },
      "outputs": [],
      "source": "finalMainDf.show()"
    },
    {
      "cell_type": "code",
      "execution_count": 12,
      "metadata": {
        "autoscroll": "auto"
      },
      "outputs": [],
      "source": "//Loading and Cleaning Meta data.\nval metaDf \u003d spark.read.json(\"/user/sa6142_nyu_edu/project/electronics/meta_Electronics.json\");"
    },
    {
      "cell_type": "code",
      "execution_count": 13,
      "metadata": {
        "autoscroll": "auto"
      },
      "outputs": [],
      "source": "//Feature Selection\n//Look into each column of metaDf and select the relevant fields\nmetaDf.columns"
    },
    {
      "cell_type": "code",
      "execution_count": 14,
      "metadata": {
        "autoscroll": "auto"
      },
      "outputs": [],
      "source": "metaDf.printSchema"
    },
    {
      "cell_type": "code",
      "execution_count": 15,
      "metadata": {
        "autoscroll": "auto"
      },
      "outputs": [],
      "source": "print(f\"No of Reviews: ${metaDf.count()}\\n\")\nprint(f\"No of Distinct Products: ${metaDf.select(\"asin\").distinct().count()}\\n\")"
    },
    {
      "cell_type": "code",
      "execution_count": 16,
      "metadata": {
        "autoscroll": "auto"
      },
      "outputs": [],
      "source": "//Taking unique asin from metaDf as having duplicates in meta doesn\u0027t make sense\nval uniqueMetaDf \u003d metaDf.distinct().toDF()"
    },
    {
      "cell_type": "code",
      "execution_count": 17,
      "metadata": {
        "autoscroll": "auto"
      },
      "outputs": [],
      "source": "uniqueMetaDf.show()"
    },
    {
      "cell_type": "code",
      "execution_count": 18,
      "metadata": {
        "autoscroll": "auto"
      },
      "outputs": [],
      "source": "uniqueMetaDf.select(countColumns(metaDf.columns):_*).show()"
    },
    {
      "cell_type": "code",
      "execution_count": 19,
      "metadata": {
        "autoscroll": "auto"
      },
      "outputs": [],
      "source": "//convert price from string to double\nval newMetaDf \u003d uniqueMetaDf.filter(substring_index($\"price\", \"$\", -1).cast(\"double\").isNotNull).withColumn(\"new_price\", substring_index($\"price\", \"$\", -1).cast(\"double\")).drop($\"price\").withColumnRenamed(\"new_price\", \"price\").drop(\"imageURL\").withColumnRenamed(\"imageURLHighRes\", \"imageURI\")\n"
    },
    {
      "cell_type": "code",
      "execution_count": 20,
      "metadata": {
        "autoscroll": "auto"
      },
      "outputs": [],
      "source": "newMetaDf.show(5)"
    },
    {
      "cell_type": "code",
      "execution_count": 21,
      "metadata": {
        "autoscroll": "auto"
      },
      "outputs": [],
      "source": "//also_buy: Also Buy column contains product that is complementary to the current product. Can be a good option to give to the user using our search engine.\n//also_view:  Also view column contains product that is similar to the current product. Can be a good option to give to the user using our search engine.\n//asin: productId of our \n//brand: brand to which the product belongs. It is good feature to have as searches often have brand name in the query.\n//category: Category is mostly needed for filtering data. Not relevant for our search engine. Thus dropping out this feature.\n//date: Not needed as we are not maintaining any priority for the latest reviews.\n//description: This field texts can be used for the Inverse Document mapping which will be useful for our searches.\n//details: Description is enough and detail is an overkill to the performance. We will drop out this feature.\n//feature: This field contains product feature. Will be relevant for our search engine. We will keep this field.\n//fit: This is mostly empty and not relevant for electronics. We are dropping out this.\n//imageURL: We are keeping only the links to the higher res image for sake of reducing the data. Thus, we are dropping out the field.\n//imageURLHighRes: We will keep the link to the product in our search query, which can be made visible to the user.\n//main_cat: main_cat is mostly needed for filtering data. Not relevant for our search engine. Thus dropping out this feature.\n//price: We need to show the price of the product to the user. Thus we will keep the field.\n//rank: Not relevant for our search. Thus, dropping out this field.\n//similar_item: We will not keep this field as it is not useful to our search.\n//tech1: This is technical table 1 about the product and is not relevant for the search. Thus we are dropping this.\n//tech2:  This is technical table 2 about the product and is not relevant for the search. Thus we are dropping this.\n//title: This is the title of the product and needs to be displayed to the user. Thus we will keep it.\n\n\n//Features selected from metaDf are:\n//also_buy\n//also_view\n//asin\n//brand\n//description\n//feature\n//imageURLHighRes changed to imageURI\n//price\n//title\n"
    },
    {
      "cell_type": "code",
      "execution_count": 22,
      "metadata": {
        "autoscroll": "auto"
      },
      "outputs": [],
      "source": "val finalMetaDf \u003d newMetaDf.select($\"also_buy\", $\"also_view\", $\"asin\", $\"brand\", $\"description\", $\"feature\", $\"imageURI\", $\"price\", $\"title\").toDF"
    },
    {
      "cell_type": "code",
      "execution_count": 23,
      "metadata": {
        "autoscroll": "auto"
      },
      "outputs": [],
      "source": "//As both the dataframes are cleaned we can join them to create one comprehensive dataframe that we will use for further tasks.\n\nval joinedDf \u003d finalMainDf.join(finalMetaDf, Seq(\"asin\"), \"inner\")"
    },
    {
      "cell_type": "code",
      "execution_count": 24,
      "metadata": {
        "autoscroll": "auto"
      },
      "outputs": [],
      "source": "joinedDf.printSchema"
    },
    {
      "cell_type": "code",
      "execution_count": 25,
      "metadata": {
        "autoscroll": "auto"
      },
      "outputs": [],
      "source": "joinedDf.show()"
    },
    {
      "cell_type": "code",
      "execution_count": 26,
      "metadata": {
        "autoscroll": "auto"
      },
      "outputs": [],
      "source": "//Profiling the Data\n//1. Total No. of Review:\njoinedDf.count()"
    },
    {
      "cell_type": "code",
      "execution_count": 27,
      "metadata": {
        "autoscroll": "auto"
      },
      "outputs": [],
      "source": "//2. Number of different brands and count of products from each brand\njoinedDf.groupBy($\"brand\").count().show()"
    },
    {
      "cell_type": "code",
      "execution_count": 28,
      "metadata": {
        "autoscroll": "auto"
      },
      "outputs": [],
      "source": "//3. Max, Min and Avg price of product across all product.\n\njoinedDf.select(max($\"price\"), min($\"price\"), avg($\"price\")).show()"
    },
    {
      "cell_type": "code",
      "execution_count": 29,
      "metadata": {
        "autoscroll": "auto"
      },
      "outputs": [],
      "source": "//4.Max, Min and Avg price of product from each brands.\njoinedDf.groupBy($\"brand\").agg(\n      max($\"price\").as(\"max_price\"),\n      min($\"price\").as(\"min_price\"),\n      avg($\"price\").as(\"avg_price\")).show()"
    },
    {
      "cell_type": "code",
      "execution_count": 30,
      "metadata": {
        "autoscroll": "auto"
      },
      "outputs": [],
      "source": "//5. Max, Min and Avg rating of product across all product.\njoinedDf.select(max($\"overall\"), min($\"overall\"), avg($\"overall\")).show()"
    },
    {
      "cell_type": "code",
      "execution_count": 31,
      "metadata": {
        "autoscroll": "auto"
      },
      "outputs": [],
      "source": "//6. Max, Min and Avg rating of product from each brands.\njoinedDf.groupBy($\"brand\").agg(\n      max($\"overall\").as(\"max_rating\"),\n      min($\"overall\").as(\"min_rating\"),\n      avg($\"overall\").as(\"avg_rating\")).show()"
    }
  ]
}