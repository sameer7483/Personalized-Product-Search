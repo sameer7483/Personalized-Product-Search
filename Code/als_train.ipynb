{
 "cells": [
  {
   "cell_type": "code",
   "execution_count": 1,
   "id": "a6176a99",
   "metadata": {},
   "outputs": [],
   "source": [
    "import pandas as pd\n",
    "from pyspark.sql import SparkSession, DataFrame\n",
    "from elasticsearch import Elasticsearch, helpers\n",
    "from pyspark.ml.recommendation import ALS, ALSModel\n",
    "from pyspark.ml.feature import StringIndexer\n",
    "from pyspark.sql.functions import col\n",
    "from functools import reduce\n",
    "import uuid"
   ]
  },
  {
   "cell_type": "code",
   "execution_count": 2,
   "id": "a1557fa8",
   "metadata": {},
   "outputs": [
    {
     "name": "stderr",
     "output_type": "stream",
     "text": [
      "Setting default log level to \"WARN\".\n",
      "To adjust logging level use sc.setLogLevel(newLevel). For SparkR, use setLogLevel(newLevel).\n",
      "22/12/09 20:29:20 INFO org.apache.spark.SparkEnv: Registering MapOutputTracker\n",
      "22/12/09 20:29:20 INFO org.apache.spark.SparkEnv: Registering BlockManagerMaster\n",
      "22/12/09 20:29:20 INFO org.apache.spark.SparkEnv: Registering BlockManagerMasterHeartbeat\n",
      "22/12/09 20:29:20 INFO org.apache.spark.SparkEnv: Registering OutputCommitCoordinator\n"
     ]
    }
   ],
   "source": [
    "spark = SparkSession.builder.config(\"spark.submit.deployMode\",\"client\").getOrCreate()"
   ]
  },
  {
   "cell_type": "code",
   "execution_count": null,
   "id": "05e4b93a",
   "metadata": {},
   "outputs": [],
   "source": [
    "spark.sparkContext.getConf().getAll()"
   ]
  },
  {
   "cell_type": "code",
   "execution_count": null,
   "id": "5b630e35",
   "metadata": {},
   "outputs": [],
   "source": [
    "raw_reviews = spark.read.json('/user/amm9801_nyu_edu/project/Books.json')\n",
    "raw_reviews.count()"
   ]
  },
  {
   "cell_type": "code",
   "execution_count": null,
   "id": "698ca7bd",
   "metadata": {},
   "outputs": [],
   "source": [
    "raw_clothing = spark.read.json('/user/sg6482_nyu_edu/project/Clothing_Shoes_and_Jewelry.json')"
   ]
  },
  {
   "cell_type": "code",
   "execution_count": null,
   "id": "a5c83017",
   "metadata": {},
   "outputs": [],
   "source": [
    "spark.conf.set(\"spark.sql.caseSensitive\", \"true\")\n",
    "raw_electronics = spark.read.json('/user/sa6142_nyu_edu/project/electronics/Electronics.json')\n",
    "spark.conf.set(\"spark.sql.caseSensitive\", \"false\")"
   ]
  },
  {
   "cell_type": "code",
   "execution_count": null,
   "id": "9625e004",
   "metadata": {},
   "outputs": [],
   "source": [
    "raw_clothing.count()"
   ]
  },
  {
   "cell_type": "code",
   "execution_count": null,
   "id": "535e7edd",
   "metadata": {},
   "outputs": [],
   "source": [
    "raw_electronics.count()"
   ]
  },
  {
   "cell_type": "code",
   "execution_count": null,
   "id": "5964727c",
   "metadata": {},
   "outputs": [],
   "source": [
    "raw_reviews"
   ]
  },
  {
   "cell_type": "code",
   "execution_count": null,
   "id": "dabb8b23",
   "metadata": {},
   "outputs": [],
   "source": [
    "raw_metadata = spark.read.json('project/meta_Books.json')\n",
    "raw_metadata.count()"
   ]
  },
  {
   "cell_type": "code",
   "execution_count": null,
   "id": "97aecf67",
   "metadata": {},
   "outputs": [],
   "source": [
    "raw_metadata"
   ]
  },
  {
   "cell_type": "code",
   "execution_count": null,
   "id": "5704a437",
   "metadata": {},
   "outputs": [],
   "source": [
    "metadata = raw_metadata.select('asin', 'title', 'description', 'brand')"
   ]
  },
  {
   "cell_type": "code",
   "execution_count": null,
   "id": "b1f0ef54",
   "metadata": {},
   "outputs": [],
   "source": [
    "raw_reviews.createOrReplaceTempView(\"view_raw_reviews\")"
   ]
  },
  {
   "cell_type": "code",
   "execution_count": null,
   "id": "d6e83ebd",
   "metadata": {},
   "outputs": [],
   "source": [
    "raw_clothing.createOrReplaceTempView(\"view_raw_clothing\")"
   ]
  },
  {
   "cell_type": "code",
   "execution_count": null,
   "id": "9fd29c91",
   "metadata": {},
   "outputs": [],
   "source": [
    "raw_electronics.createOrReplaceTempView(\"view_raw_electronics\")"
   ]
  },
  {
   "cell_type": "code",
   "execution_count": null,
   "id": "92942b82",
   "metadata": {},
   "outputs": [],
   "source": [
    "reviews_filtered = spark.sql(\"select asin, reviewerId, overall from\\\n",
    "                            (select *, count(*) over (partition by reviewerId) as c\\\n",
    "                            from view_raw_reviews) where c >= 5\")"
   ]
  },
  {
   "cell_type": "code",
   "execution_count": null,
   "id": "1c1e2e00",
   "metadata": {},
   "outputs": [],
   "source": [
    "clothing_filtered = spark.sql(\"select asin, reviewerId, overall from\\\n",
    "                            (select *, count(*) over (partition by reviewerId) as c\\\n",
    "                            from view_raw_clothing) where c >= 5\")"
   ]
  },
  {
   "cell_type": "code",
   "execution_count": null,
   "id": "54521094",
   "metadata": {},
   "outputs": [],
   "source": [
    "electronics_filtered = spark.sql(\"select asin, reviewerId, overall from\\\n",
    "                            (select *, count(*) over (partition by reviewerId) as c\\\n",
    "                            from view_raw_electronics) where c >= 5\")"
   ]
  },
  {
   "cell_type": "code",
   "execution_count": null,
   "id": "3390d1bf",
   "metadata": {},
   "outputs": [],
   "source": [
    "electronics_filtered.count()"
   ]
  },
  {
   "cell_type": "code",
   "execution_count": null,
   "id": "f175570f",
   "metadata": {},
   "outputs": [],
   "source": [
    "clothing_filtered.count()"
   ]
  },
  {
   "cell_type": "code",
   "execution_count": null,
   "id": "193dce6e",
   "metadata": {},
   "outputs": [],
   "source": [
    "reviews_filtered.write.option(\"header\",True).csv(\"/user/amm9801_nyu_edu/project/reviews_filtered\")"
   ]
  },
  {
   "cell_type": "code",
   "execution_count": null,
   "id": "e3a5cc1b",
   "metadata": {},
   "outputs": [],
   "source": [
    "clothing_filtered.write.option(\"header\",True).csv(\"/user/sg6482_nyu_edu/project/clothing_filtered\")"
   ]
  },
  {
   "cell_type": "code",
   "execution_count": null,
   "id": "b769b88f",
   "metadata": {},
   "outputs": [],
   "source": [
    "electronics_filtered.write.option(\"header\",True).csv(\"/user/sa6142_nyu_edu/project/electronics_filtered\")"
   ]
  },
  {
   "cell_type": "code",
   "execution_count": null,
   "id": "14a3ff4e",
   "metadata": {},
   "outputs": [],
   "source": [
    "reviews_filtered = spark.read.option(\"header\", True).csv(\"/user/amm9801_nyu_edu/project/reviews_filtered\")"
   ]
  },
  {
   "cell_type": "code",
   "execution_count": null,
   "id": "87deaec6",
   "metadata": {},
   "outputs": [],
   "source": [
    "clothing_filtered = spark.read.option(\"header\", True).csv(\"/user/sg6482_nyu_edu/project/clothing_filtered\")"
   ]
  },
  {
   "cell_type": "code",
   "execution_count": null,
   "id": "43df3050",
   "metadata": {},
   "outputs": [],
   "source": [
    "electronics_filtered = spark.read.option(\"header\", True).csv(\"/user/sa6142_nyu_edu/project/electronics_filtered\")"
   ]
  },
  {
   "cell_type": "code",
   "execution_count": null,
   "id": "b8c4742b",
   "metadata": {},
   "outputs": [],
   "source": [
    "def unionAll(*dfs):\n",
    "    return reduce(DataFrame.unionAll, dfs)"
   ]
  },
  {
   "cell_type": "code",
   "execution_count": null,
   "id": "087385d2",
   "metadata": {},
   "outputs": [],
   "source": [
    "merged_reviews = unionAll(reviews_filtered, clothing_filtered, electronics_filtered)"
   ]
  },
  {
   "cell_type": "code",
   "execution_count": null,
   "id": "52a515c9",
   "metadata": {},
   "outputs": [],
   "source": [
    "merged_reviews.write.option(\"header\",True).csv(\"project/merged_reviews\")"
   ]
  },
  {
   "cell_type": "code",
   "execution_count": null,
   "id": "03985b8d",
   "metadata": {},
   "outputs": [],
   "source": [
    "merged_reviews = spark.read.option(\"header\", True).csv(\"/user/amm9801_nyu_edu/project/merged_reviews\")"
   ]
  },
  {
   "cell_type": "code",
   "execution_count": null,
   "id": "5ebb822a",
   "metadata": {},
   "outputs": [],
   "source": [
    "merged_reviews.count()"
   ]
  },
  {
   "cell_type": "code",
   "execution_count": null,
   "id": "aa891814",
   "metadata": {},
   "outputs": [],
   "source": [
    "merged_reviews.printSchema()"
   ]
  },
  {
   "cell_type": "code",
   "execution_count": null,
   "id": "86882047",
   "metadata": {},
   "outputs": [],
   "source": [
    "stringindexer = StringIndexer().setInputCol(\"reviewerId\").setOutputCol(\"reviewerIdIdx\")"
   ]
  },
  {
   "cell_type": "code",
   "execution_count": null,
   "id": "7de6a7b8",
   "metadata": {},
   "outputs": [],
   "source": [
    "model_reviewerId = stringindexer.fit(merged_reviews)"
   ]
  },
  {
   "cell_type": "code",
   "execution_count": null,
   "id": "a9cb5078",
   "metadata": {},
   "outputs": [],
   "source": [
    "merged_reviews_transformed = model_reviewerId.transform(merged_reviews)"
   ]
  },
  {
   "cell_type": "code",
   "execution_count": null,
   "id": "43b3876b",
   "metadata": {},
   "outputs": [],
   "source": [
    "stringindexer = StringIndexer().setInputCol(\"asin\").setOutputCol(\"asinIdx\")"
   ]
  },
  {
   "cell_type": "code",
   "execution_count": null,
   "id": "b9410c4d",
   "metadata": {},
   "outputs": [],
   "source": [
    "model_asin = stringindexer.fit(merged_reviews_transformed)"
   ]
  },
  {
   "cell_type": "code",
   "execution_count": null,
   "id": "1d084c62",
   "metadata": {},
   "outputs": [],
   "source": [
    "merged_reviews_transformed = model_asin.transform(merged_reviews_transformed)"
   ]
  },
  {
   "cell_type": "code",
   "execution_count": null,
   "id": "b97ea587",
   "metadata": {},
   "outputs": [],
   "source": [
    "merged_reviews_transformed = merged_reviews_transformed\\\n",
    "                                .withColumn(\"reviewerIdIdx\", col(\"reviewerIdIdx\").cast('int'))\\\n",
    "                                .withColumn(\"asinIdx\", col(\"asinIdx\").cast('int'))\\\n",
    "                                .withColumn(\"overall\", col(\"overall\").cast('float'))"
   ]
  },
  {
   "cell_type": "code",
   "execution_count": null,
   "id": "9827e903",
   "metadata": {},
   "outputs": [],
   "source": [
    "merged_reviews_transformed.printSchema()"
   ]
  },
  {
   "cell_type": "code",
   "execution_count": null,
   "id": "98fd27e1",
   "metadata": {},
   "outputs": [],
   "source": [
    "merged_reviews_transformed.write.option(\"header\", True)\\\n",
    "    .csv(\"/user/amm9801_nyu_edu/project/merged_reviews_transformed\")"
   ]
  },
  {
   "cell_type": "code",
   "execution_count": null,
   "id": "b813f03c",
   "metadata": {},
   "outputs": [],
   "source": [
    "merged_reviews_transformed = spark.read.csv(\"/user/amm9801_nyu_edu/project/merged_reviews_transformed\",\\\n",
    "                                            inferSchema=True, header=True)"
   ]
  },
  {
   "cell_type": "code",
   "execution_count": null,
   "id": "0b31b61d",
   "metadata": {},
   "outputs": [],
   "source": [
    "merged_reviews_transformed.count()"
   ]
  },
  {
   "cell_type": "code",
   "execution_count": null,
   "id": "31a6a6d4",
   "metadata": {},
   "outputs": [],
   "source": [
    "merged_reviews_transformed.printSchema()"
   ]
  },
  {
   "cell_type": "code",
   "execution_count": null,
   "id": "0c52fa84",
   "metadata": {},
   "outputs": [],
   "source": [
    "(training, validation) = merged_reviews_transformed.randomSplit([0.8, 0.2])"
   ]
  },
  {
   "cell_type": "code",
   "execution_count": null,
   "id": "c01c5409",
   "metadata": {},
   "outputs": [],
   "source": [
    "training.write.option(\"header\", True).csv(\"/user/amm9801_nyu_edu/project/training\")"
   ]
  },
  {
   "cell_type": "code",
   "execution_count": null,
   "id": "52faf479",
   "metadata": {},
   "outputs": [],
   "source": [
    "validation.write.option(\"header\", True).csv(\"/user/amm9801_nyu_edu/project/validation\")"
   ]
  },
  {
   "cell_type": "code",
   "execution_count": null,
   "id": "1b907dc3",
   "metadata": {},
   "outputs": [],
   "source": [
    "training = spark.read.csv(\"/user/amm9801_nyu_edu/project/training\", inferSchema=True, header=True)"
   ]
  },
  {
   "cell_type": "code",
   "execution_count": null,
   "id": "d083a40d",
   "metadata": {},
   "outputs": [],
   "source": [
    "training.printSchema()"
   ]
  },
  {
   "cell_type": "code",
   "execution_count": null,
   "id": "ce5a1399",
   "metadata": {},
   "outputs": [],
   "source": [
    "training.count()"
   ]
  },
  {
   "cell_type": "code",
   "execution_count": null,
   "id": "b1571bd1",
   "metadata": {},
   "outputs": [],
   "source": [
    "validation = spark.read.csv(\"/user/amm9801_nyu_edu/project/validation\", inferSchema=True, header=True)"
   ]
  },
  {
   "cell_type": "code",
   "execution_count": null,
   "id": "7a1359e1",
   "metadata": {},
   "outputs": [],
   "source": []
  },
  {
   "cell_type": "code",
   "execution_count": null,
   "id": "c64d3d57",
   "metadata": {},
   "outputs": [],
   "source": [
    "als = ALS(maxIter=10, regParam=0.05, rank=48, userCol=\"reviewerIdIdx\", itemCol=\"asinIdx\", ratingCol=\"overall\",\n",
    "          coldStartStrategy=\"drop\")"
   ]
  },
  {
   "cell_type": "code",
   "execution_count": null,
   "id": "f51ffc05",
   "metadata": {},
   "outputs": [],
   "source": [
    "model = als.fit(training)"
   ]
  },
  {
   "cell_type": "code",
   "execution_count": null,
   "id": "6a710635",
   "metadata": {},
   "outputs": [],
   "source": [
    "model.save(\"/user/amm9801_nyu_edu/project/als_model_merged\")"
   ]
  },
  {
   "cell_type": "code",
   "execution_count": 3,
   "id": "c2f49d36",
   "metadata": {},
   "outputs": [
    {
     "name": "stderr",
     "output_type": "stream",
     "text": [
      "                                                                                \r"
     ]
    }
   ],
   "source": [
    "model = ALSModel.load(\"/user/amm9801_nyu_edu/project/als_model_merged\")"
   ]
  },
  {
   "cell_type": "code",
   "execution_count": 4,
   "id": "559fe710",
   "metadata": {},
   "outputs": [
    {
     "name": "stderr",
     "output_type": "stream",
     "text": [
      "                                                                                \r"
     ]
    }
   ],
   "source": [
    "itemfactors = spark.createDataFrame(model.itemFactors.rdd)"
   ]
  },
  {
   "cell_type": "code",
   "execution_count": 7,
   "id": "15f103df",
   "metadata": {},
   "outputs": [
    {
     "data": {
      "text/plain": [
       "DataFrame[id: bigint, features: array<double>]"
      ]
     },
     "execution_count": 7,
     "metadata": {},
     "output_type": "execute_result"
    }
   ],
   "source": [
    "itemfactors"
   ]
  },
  {
   "cell_type": "code",
   "execution_count": 9,
   "id": "d0d2e705",
   "metadata": {},
   "outputs": [
    {
     "name": "stderr",
     "output_type": "stream",
     "text": [
      "                                                                                \r"
     ]
    }
   ],
   "source": [
    "itemfactors.write.option(\"header\", True).parquet(\"/user/amm9801_nyu_edu/project/itemfactors\")"
   ]
  },
  {
   "cell_type": "code",
   "execution_count": 10,
   "id": "546177e5",
   "metadata": {},
   "outputs": [],
   "source": [
    "itemfactors = spark.read.parquet(\"/user/amm9801_nyu_edu/project/itemfactors\", inferSchema=True, header=True)"
   ]
  },
  {
   "cell_type": "code",
   "execution_count": 11,
   "id": "0ffeedb4",
   "metadata": {},
   "outputs": [
    {
     "data": {
      "text/plain": [
       "4351089"
      ]
     },
     "execution_count": 11,
     "metadata": {},
     "output_type": "execute_result"
    }
   ],
   "source": [
    "itemfactors.count()"
   ]
  },
  {
   "cell_type": "code",
   "execution_count": 12,
   "id": "1a4599be",
   "metadata": {},
   "outputs": [
    {
     "name": "stdout",
     "output_type": "stream",
     "text": [
      "root\n",
      " |-- id: long (nullable = true)\n",
      " |-- features: array (nullable = true)\n",
      " |    |-- element: double (containsNull = true)\n",
      "\n"
     ]
    }
   ],
   "source": [
    "itemfactors.printSchema()"
   ]
  }
 ],
 "metadata": {
  "kernelspec": {
   "display_name": "Python 3 (ipykernel)",
   "language": "python",
   "name": "python3"
  },
  "language_info": {
   "codemirror_mode": {
    "name": "ipython",
    "version": 3
   },
   "file_extension": ".py",
   "mimetype": "text/x-python",
   "name": "python",
   "nbconvert_exporter": "python",
   "pygments_lexer": "ipython3",
   "version": "3.8.13"
  }
 },
 "nbformat": 4,
 "nbformat_minor": 5
}
